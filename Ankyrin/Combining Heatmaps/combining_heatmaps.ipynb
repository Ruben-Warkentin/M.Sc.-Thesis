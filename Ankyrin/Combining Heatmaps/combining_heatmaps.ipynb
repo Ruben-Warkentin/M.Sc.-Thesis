{
 "cells": [
  {
   "cell_type": "code",
   "execution_count": 1,
   "metadata": {},
   "outputs": [],
   "source": [
    "import numpy as np #scientific computing package, for making arrays\n",
    "import pandas as pd #data analysis module, for making data frames\n",
    "import matplotlib.pyplot as plt #plotting module\n",
    "import seaborn as sns\n",
    "from math import *"
   ]
  },
  {
   "cell_type": "code",
   "execution_count": 2,
   "metadata": {},
   "outputs": [],
   "source": [
    "plt.rcParams['figure.dpi'] = 100 #lower  quality inline figure\n",
    "plt.rcParams['savefig.dpi'] = 600 #high quality save file for publication"
   ]
  },
  {
   "cell_type": "code",
   "execution_count": 3,
   "metadata": {},
   "outputs": [],
   "source": [
    "hb = pd.read_csv('09_ankyrin_hb_1.csv')\n",
    "sb = pd.read_csv('00_ankyrin_sb_phos.csv')\n",
    "pi = pd.read_csv('00_ankyrin_pi.csv')\n",
    "# df_wide = hb.pivot_table( index='Z', columns='Theta', values='Hbonds')"
   ]
  },
  {
   "cell_type": "code",
   "execution_count": 4,
   "metadata": {},
   "outputs": [],
   "source": [
    "# copy the data\n",
    "hb_min_max = hb.copy()\n",
    "sb_min_max = sb.copy()\n",
    "pi_min_max = pi.copy()\n",
    "\n",
    "# apply normalization techniques by Column 1\n",
    "column = 'Hbonds'\n",
    "hb_min_max[column] = (hb_min_max[column] - hb_min_max[column].min()) / (hb_min_max[column].max() - hb_min_max[column].min())    \n",
    "\n",
    "# apply normalization techniques by Column 1\n",
    "column = 'Bonds'\n",
    "sb_min_max[column] = (sb_min_max[column] - sb_min_max[column].min()) / (sb_min_max[column].max() - sb_min_max[column].min())\n",
    "\n",
    "# apply normalization techniques by Column 1\n",
    "column = 'Total_Bonds'\n",
    "pi_min_max[column] = (pi_min_max[column] - pi_min_max[column].min()) / (pi_min_max[column].max() - pi_min_max[column].min())"
   ]
  },
  {
   "cell_type": "code",
   "execution_count": 5,
   "metadata": {},
   "outputs": [],
   "source": [
    "#create a list with the normalized column for each type of bond\n",
    "hb_norm = hb_min_max['Hbonds']\n",
    "sb_norm = sb_min_max['Bonds']\n",
    "pi_norm = pi_min_max['Total_Bonds']"
   ]
  },
  {
   "cell_type": "code",
   "execution_count": 6,
   "metadata": {},
   "outputs": [],
   "source": [
    "#create a new dataframe to store the combined normalized bond data in\n",
    "#I am using hb dataframe as a template since it already has the z and theta values\n",
    "all = hb.copy()\n",
    "\n",
    "#adds a column with each type of bond to the new dataframe\n",
    "all['Hbonds'] = hb_norm\n",
    "all['SBbonds'] = sb_norm\n",
    "all['PiBonds'] = pi_norm\n",
    "\n",
    "#create a new column \"Total\" that contains the combined value for all normazlied bonds\n",
    "all = all.assign(Total = all['Hbonds'] + all['SBbonds'])\n",
    "all = all.assign(Total = all['Total'] + all['PiBonds'])\n",
    "# all.to_csv('00_ankyrin_all.csv')\n",
    "\n",
    "#create a new dataframe to normalize the values in the total column\n",
    "all_norm = all.copy()\n",
    "# apply normalization technique to the total column\n",
    "column = 'Total'\n",
    "all_norm[column] = (all_norm[column] - all_norm[column].min()) / (all_norm[column].max() - all_norm[column].min())\n",
    "#create a csv file \n",
    "all_norm.to_csv('00_ankyrin_all_norm.csv')"
   ]
  },
  {
   "cell_type": "code",
   "execution_count": 10,
   "metadata": {},
   "outputs": [
    {
     "name": "stdout",
     "output_type": "stream",
     "text": [
      "    Unnamed: 0     Z  Theta    Hbonds   SBbonds  PiBonds     Total\n",
      "0            0 -23.8     18  0.155556  0.000000      0.0  0.077778\n",
      "1            1 -23.8     54  0.088889  0.000000      0.0  0.044444\n",
      "2            2 -23.8     90  0.222222  0.000000      0.0  0.111111\n",
      "3            3 -23.8    126  0.022222  0.000000      0.0  0.011111\n",
      "4            4 -23.8    162  0.244444  0.060606      0.0  0.152525\n",
      "..         ...   ...    ...       ...       ...      ...       ...\n",
      "75          75  23.8    198  0.244444  0.000000      0.0  0.122222\n",
      "76          76  23.8    234  0.266667  0.000000      0.0  0.133333\n",
      "77          77  23.8    270  0.044444  0.000000      0.0  0.022222\n",
      "78          78  23.8    306  0.022222  0.000000      0.0  0.011111\n",
      "79          79  23.8    342  0.400000  0.000000      0.0  0.200000\n",
      "\n",
      "[80 rows x 7 columns]\n"
     ]
    },
    {
     "data": {
      "image/png": "[encoded data removed]",
      "text/plain": [
       "<Figure size 600x400 with 2 Axes>"
      ]
     },
     "metadata": {
      "needs_background": "light"
     },
     "output_type": "display_data"
    }
   ],
   "source": [
    "#load the dataframe\n",
    "data = pd.read_csv('00_ankyrin_all_norm.csv')\n",
    "print(data)\n",
    "df_wide = data.pivot_table( index='Z', columns='Theta', values='Total')\n",
    "\n",
    "hm = sns.heatmap(df_wide, cmap=\"YlGnBu\", linewidths=.003)\n",
    "hm.set_yticklabels(hm.get_yticklabels(), rotation=0)\n",
    "hm.invert_yaxis()\n",
    "hm_fig = hm.get_figure() #this line may be an issue for the cluster, since there are no graphics\n",
    "hm_fig.savefig(\"ankyrin_all_norm.png\")"
   ]
  }
 ],
 "metadata": {
  "interpreter": {
   "hash": "e7370f93d1d0cde622a1f8e1c04877d8463912d04d973331ad4851f04de6915a"
  },
  "kernelspec": {
   "display_name": "Python 3.10.4 64-bit",
   "language": "python",
   "name": "python3"
  },
  "language_info": {
   "codemirror_mode": {
    "name": "ipython",
    "version": 3
   },
   "file_extension": ".py",
   "mimetype": "text/x-python",
   "name": "python",
   "nbconvert_exporter": "python",
   "pygments_lexer": "ipython3",
   "version": "3.10.4"
  },
  "orig_nbformat": 4
 },
 "nbformat": 4,
 "nbformat_minor": 2
}
