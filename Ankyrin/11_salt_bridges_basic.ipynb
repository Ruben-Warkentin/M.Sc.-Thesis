{
 "cells": [
  {
   "cell_type": "code",
   "execution_count": null,
   "metadata": {},
   "outputs": [],
   "source": [
    "import MDAnalysis as mda #import MDAnalysis\n",
    "from MDAnalysis.analysis import contacts #allows us to use contacts_within_cutoff\n",
    "\n",
    "import os #allows us to move directories, needed for looping directories\n",
    "import numpy as np #scientific computing package, for making arrays\n",
    "import pandas as pd #data analysis module, for making data frames\n",
    "import matplotlib.pyplot as plt #plotting module\n",
    "import seaborn as sns\n",
    "from math import *\n",
    "##renders figures in a notebook\n",
    "%matplotlib inline "
   ]
  },
  {
   "cell_type": "code",
   "execution_count": null,
   "metadata": {},
   "outputs": [],
   "source": [
    "plt.rcParams['figure.dpi'] = 100 #lower  quality inline figure\n",
    "plt.rcParams['savefig.dpi'] = 600 #high quality save file for publication"
   ]
  },
  {
   "cell_type": "code",
   "execution_count": null,
   "metadata": {},
   "outputs": [],
   "source": [
    "rad = 3.2 #the distance within two atoms are considered to be bonded\n",
    "## Azimuthal angles around the z-axis, for a total of 14 segments\n",
    "## Azimuthal angles around the z-axis, for a total of 14 segments\n",
    "thetas = ['018', '054', '090', '126', '162', '198', '234', '270', '306', '342',]\n",
    "dcd_thetas = ['18', '54', '90', '126', '162', '198', '234', '270', '306', '342',]\n",
    "# z values at the center of each patch, from z = -22 to z = 27 Angstrom\n",
    "zz = ['-23.80', '-17.00', '-10.20', '-3.40', '03.40', '10.20', '17.00', '23.80',]\n",
    "#combined z and theta values\n",
    "z_theta = []\n",
    "z = []\n",
    "theta = []\n",
    "#creating a list of all simulations and their bonds\n",
    "bcolumns = ['z','theta', 'Bonds']\n",
    "sb_z_theta = pd.DataFrame(columns= bcolumns)"
   ]
  },
  {
   "cell_type": "code",
   "execution_count": null,
   "metadata": {},
   "outputs": [],
   "source": [
    "#script from MDAnalysis contacts that allows us to find contacts within the cutoff \n",
    "def contacts_within_cutoff(u, acidic, basic, radius=rad):\n",
    "\ttimeseries = []\n",
    "\tfor ts in u.trajectory:\n",
    "\t\tdist = contacts.distance_array(acidic.positions, basic.positions)\n",
    "\t\tn_contacts = contacts.contact_matrix(dist, radius).sum()\n",
    "\t\ttimeseries.append([ts.frame, n_contacts])\n",
    "\treturn np.array(timeseries)"
   ]
  },
  {
   "cell_type": "code",
   "execution_count": null,
   "metadata": {},
   "outputs": [],
   "source": [
    "for i in range(len(zz)):\n",
    "\tfor j in range(len(thetas)):\n",
    "\t\t## First, theta\n",
    "\t\ttheta = thetas[j]\n",
    "\t\tdcd_theta = dcd_thetas[j]\n",
    "\t\t## Then z\n",
    "\t\tz = zz[i]\n",
    "\t\t#defines theta and phi to one decimal point\n",
    "\t\t# theta = \"%.2f\" % theta\n",
    "\t\t# z = \"%.2f\" % z\n",
    "\t\t#adding theta and phi to the empty theta_phi list\n",
    "\t\tz_theta.append(\"z = \" + z + \" , θ = \" + theta + \"°\")\n",
    "\n",
    "\t\t#defining file locations for PSF and DCD\n",
    "\t\tPSF_loc = \"configurations/\" + z + \"_\" + theta + \"/4XCZ__T3Q_\" + z + \"_\" + theta + \"__solvated_ionized.psf\"\n",
    "\t\tDCD_loc = \"configurations/\" + z + \"_\" + theta + \"/o/4XCZ__T3Q_\" + z + \"_\" + dcd_theta + \".dcd\"\n",
    "\t\tprint (DCD_loc)\n",
    "\t\t#start of the MDA script\n",
    "\t\t##define a string beforehand for the filename\n",
    "\t\t##change vscode to wrap lines\n",
    "\t\tu = mda.Universe(PSF_loc,DCD_loc)\n",
    "\t\t\n",
    "\t\tsel_basic = \"(resname ARG or resname LYS) and (name NE or name NZ)\"\n",
    "\t\t# sel_acidic = \"(resname ASP or resname GLU) and (name OD1 or name OD2 or name OE1 or name OE2)\"   \n",
    "\t\tsel_acidic = \"index 2102 or index 2103 or index 2106 or index 2107\" #O6, O7, O9, O10 of the phosphate\n",
    "\t\tacidic = u.select_atoms(sel_acidic) \n",
    "\t\tbasic = u.select_atoms(sel_basic) \n",
    "\t\t\t\n",
    "\t\tca = contacts_within_cutoff(u, acidic, basic, radius=rad)\n",
    "\t\tca.shape\n",
    "\t\tca_df = pd.DataFrame(ca, columns=['Frame', '# Contacts'])\n",
    "\t\t# print dataframe\n",
    "\t\t# display(ca_df)\n",
    "\t\t\n",
    "\t\t#calculate and store the total number of bonds in the simulation\n",
    "\t\ttotal_sb = ca_df['# Contacts'].sum()\n",
    "\t\t# print(total_sb)\n",
    "\n",
    "\t\t#add the total number of bonds in an array\n",
    "\t\t#adds the theta and z values to the hbond table\n",
    "\t\tsb_z_theta = sb_z_theta.append([{'z':z, 'theta': theta, 'Bonds': total_sb}], ignore_index=True)\n",
    "\n",
    "\t\t#store data frame as a text file\n",
    "\t\tsb_array = ca_df.to_numpy()\n",
    "\t\tnp.savetxt(\"configurations/\" + z + \"_\" + theta + \"/sbridges_MDA.txt\", sb_array, fmt = \"%d\")\n",
    "\n",
    "\t\t# ca_df.head()\n",
    "\t\t# ca_df.plot(x='Frame')\n",
    "\n",
    "\t\t# plt.savefig(\"configurations/figures/\" + z + \"_\" + theta + \".png\")\n",
    "\t\t# plt.ylabel('# Contacts')\n",
    "\n",
    "\t\t#check total number of bonds per simulation, only uncomment when troubleshooting, slows down code\n",
    "\t\t# print(sb_z_theta)"
   ]
  },
  {
   "cell_type": "code",
   "execution_count": null,
   "metadata": {},
   "outputs": [],
   "source": [
    "sb_z_theta.to_csv('00_ankyrin_sb_phos.csv')\n",
    "sb = pd.read_csv('00_ankyrin_sb_phos.csv')\n",
    "\n",
    "\n",
    "#load csv file\n",
    "df_wide = sb.pivot_table( index='z', columns='theta', values='Bonds')\n",
    "\n",
    "hm = sns.heatmap(df_wide, cmap=\"YlGnBu\", linewidths=.003)\n",
    "hm.invert_yaxis()\n",
    "hm_fig = hm.get_figure() #this line may be an issue for the cluster, since there are no graphics\n",
    "hm_fig.savefig(\"configurations/ankyrin_sb_phos_hm.png\")"
   ]
  }
 ],
 "metadata": {
  "interpreter": {
   "hash": "e7370f93d1d0cde622a1f8e1c04877d8463912d04d973331ad4851f04de6915a"
  },
  "kernelspec": {
   "display_name": "Python 3.8.10 64-bit",
   "language": "python",
   "name": "python3"
  },
  "language_info": {
   "codemirror_mode": {
    "name": "ipython",
    "version": 3
   },
   "file_extension": ".py",
   "mimetype": "text/x-python",
   "name": "python",
   "nbconvert_exporter": "python",
   "pygments_lexer": "ipython3",
   "version": "3.10.4"
  },
  "orig_nbformat": 4
 },
 "nbformat": 4,
 "nbformat_minor": 2
}
