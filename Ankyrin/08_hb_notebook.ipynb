{
 "cells": [
  {
   "cell_type": "code",
   "execution_count": 24,
   "metadata": {},
   "outputs": [],
   "source": [
    "#matplotlib is a data visualization library for python and pyplot is a collection\n",
    "#of functions that make matplotlib work like MATLAB\n",
    "import matplotlib.pyplot as plt\n",
    "#pandas is a data analysis and manipulation library for python\n",
    "import pandas as pd\n",
    "#math is a std python library, import * imports everything from math\n",
    "from math import *\n",
    "#numpy is a array, matrix, and functions library for python\n",
    "import numpy as np\n",
    "#PdfPages from matplotlib.backends.backend_pdf allows us to export figures as a PDF\n",
    "from matplotlib.backends.backend_pdf import PdfPages\n",
    "#matplotlib is a data visualization library for python\n",
    "import matplotlib as mpl\n",
    "#os provides f(x)s for creating and removing directories, fetching contents etc.\n",
    "import os"
   ]
  },
  {
   "cell_type": "code",
   "execution_count": 25,
   "metadata": {},
   "outputs": [],
   "source": [
    "#setting matplot lib parameters to make sure font and font size for all graphs\n",
    "#is the same\n",
    "mpl.rcParams['font.sans-serif'] = \"Times New Roman\"\n",
    "# Then, \"ALWAYS use sans-serif fonts\"\n",
    "mpl.rcParams['font.family'] = 'sans-serif'\n",
    "mpl.rcParams['font.size'] = \"12\"\n",
    "mpl.rcParams['mathtext.default'] = \"regular\""
   ]
  },
  {
   "cell_type": "code",
   "execution_count": 26,
   "metadata": {},
   "outputs": [],
   "source": [
    "## Azimuthal angles around the z-axis, for a total of 14 segments\n",
    "thetas = ['018', '054', '090', '126', '162', '198', '234', '270', '306', '342',]\n",
    "# z values at the center of each patch, from z = -22 to z = 27 Angstrom\n",
    "zz = ['-23.80', '-17.00', '-10.20', '-3.40', '03.40', '10.20', '17.00', '23.80',]"
   ]
  },
  {
   "cell_type": "code",
   "execution_count": 27,
   "metadata": {},
   "outputs": [],
   "source": [
    "#creating open lists so that we can later use a for loop to import th correct\n",
    "#values from each simulation box\n",
    "z_theta = []\n",
    "Hbonds_all = []\n",
    "HbondDetails = []\n",
    "#setting the columns\n",
    "Hcolumns = ['z','theta', 'Hbonds (all)']\n",
    "#creates a hbond table, setting columns to Hcolumns\n",
    "Hbonds_z_theta = pd.DataFrame(columns= Hcolumns)"
   ]
  },
  {
   "cell_type": "code",
   "execution_count": 28,
   "metadata": {},
   "outputs": [],
   "source": [
    "#testing with the range of directories\n",
    "for i in range(len(zz)):\n",
    "\tfor j in range(len(thetas)):\n",
    "\t\t## First, theta\n",
    "\t\ttheta = thetas[j]\n",
    "\t\t## Then z\n",
    "\t\tz = zz[i]\n",
    "\t\t#adds the theta and z values to the hbond table\n",
    "\t\tHbonds_z_theta = Hbonds_z_theta.append([{'z':z, 'theta': theta}], ignore_index=True)\n",
    "\t\t#defines theta and phi to one decimal point\n",
    "\t\t# theta = \"%.0f\" % theta\n",
    "\t\t# z = \"%.2f\" % z\n",
    "\t\t#adding theta and phi to the empty theta_phi list\n",
    "\t\tz_theta.append(\"z = \" + z + \" , θ = \" + theta + \"°\")\n",
    "\t\t#specifying the locations of the force, hbond, CDR3 hbond file, salt SaltBridges_heatmap\n",
    "\t\t#and salr_dir\n",
    "\t\tHbond_all_file = \"configurations/\" + z + \"_\" + theta + \"/hbonds.dat\"\n",
    "\t\tHbondDetails.append(\"configurations/\" + z + \"_\" + theta + \"/hbonds-details.dat\")\n",
    "\t\t#read the force file and hbonds files\n",
    "\t\tdf_Hbonds_all = pd.read_csv(Hbond_all_file, sep = \" \", header=0)\n",
    "\t\t#adds the hbonds file to the empty list\n",
    "\t\tHbonds_all.append(df_Hbonds_all)"
   ]
  },
  {
   "cell_type": "code",
   "execution_count": 29,
   "metadata": {},
   "outputs": [
    {
     "name": "stdout",
     "output_type": "stream",
     "text": [
      "         z theta Hbonds (all)\n",
      "0   -23.80   018            7\n",
      "1   -23.80   054            4\n",
      "2   -23.80   090           10\n",
      "3   -23.80   126            1\n",
      "4   -23.80   162           11\n",
      "..     ...   ...          ...\n",
      "75   23.80   198           11\n",
      "76   23.80   234           12\n",
      "77   23.80   270            2\n",
      "78   23.80   306            1\n",
      "79   23.80   342           18\n",
      "\n",
      "[80 rows x 3 columns]\n"
     ]
    },
    {
     "data": {
      "image/png": "[encoded data removed]",
      "text/plain": [
       "<Figure size 864x648 with 1 Axes>"
      ]
     },
     "metadata": {
      "needs_background": "light"
     },
     "output_type": "display_data"
    }
   ],
   "source": [
    "with PdfPages('hbonds_hm.pdf') as pdf:\n",
    "\t#i is up to 80 based on the number of simulations\n",
    "\tfor i in range (80):\n",
    "\t\t#adds the list containing the force values and hbonds to frames,\n",
    "\t\t#concatanation is necessary since 'data' and 'Hbonds' are just lists\n",
    "\t\tframe = pd.concat(Hbonds_all, axis = 1)\n",
    "\n",
    "\t\t#defines the figure size and sets the subtitle to the coordinates (theta_phi)\n",
    "\t\tfig = plt.figure(figsize=(12,9))\n",
    "\t\tfig.suptitle(z_theta[i], fontsize=16)\n",
    "\n",
    "\t\t# First, plotting the radial force\n",
    "\t\t#(2,2,1) inidcates the nrows, ncols, index, meaning the pdf has 2 columns\n",
    "\t\t#2 rows, and this figure is in index 1 (top left corner)\n",
    "\t\tax = fig.add_subplot(2,1,1)\n",
    "\t\tax.axhline(0, color='black', linestyle = \":\")\n",
    "\n",
    "\t\t# Second, the hydrogen bonds\n",
    "\t\t#plotting all hbonds, divide by 100 to turn into ns [:,0] selects\n",
    "\t\t#first column which is time\n",
    "\t\t#for some reason the 2+2 for the upper limit of columns goes to the\n",
    "\t\t#right number of columns, b/c syntax\n",
    "\t\tax.plot(frame.iloc[:, i*2:i*2+2].iloc[:, 0]/100, frame.iloc[:, i*2:i*2+2].iloc[:, 1], color = \"r\", label = \"all\")\n",
    "\t\t#AOC stands for\n",
    "\t\tAOC = frame.iloc[:, i*2:i*2+2].iloc[:, 1].sum()\n",
    "\t\tHbonds_z_theta.at[i, \"Hbonds (all)\"] = AOC\n",
    "\t\tax.text(0.5 ,5, \"AOC = \" + str(AOC))\n",
    "\t\tax.set_title(\"Hydrogen bonds (Ankyrin and T3Q)\")\n",
    "\t\tax.set_ylim([-0.5, 1])\n",
    "\t\tax.set_xlabel(\"time (ns)\")\n",
    "\t\tax.set_ylabel(\"#H-bonds\")\n",
    "\n",
    "\t\t# Lastly, text information about hydrogen bonds\n",
    "\t\t\t#specify encoding the file or for writing the file\n",
    "\t\tax2 = fig.add_subplot(2,1,2)\n",
    "\t\tax2.axis('off')\n",
    "\t\twith open(HbondDetails[i]) as hd:\n",
    "\t\t\td = hd.read()\n",
    "\t\t\tax2.text(0,-0.2, d)\n",
    "\n",
    "\n",
    "\t\t# pdf.savefig()\n",
    "\t\tplt.close()\n",
    "\n",
    "\t\t# Hydrogen bonds scatter plot (all residues)\n",
    "\t#set a figure size\n",
    "\tHbonds_heatmap = plt.figure(figsize=(12,9))\n",
    "\t#set a subtitle\n",
    "\tHbonds_heatmap.suptitle(\"Hydrogen bonds (all)\", fontsize=16)\n",
    "\t#add plot\n",
    "\tax = Hbonds_heatmap.add_subplot(1,1,1)\n",
    "\t#set x and y\n",
    "\tax.set_ylabel(\"z\", fontsize=14)\n",
    "\tax.set_xlabel(\"θ\", fontsize=14)\n",
    "\t#hydrogen bond is scatter plot\n",
    "\tprint(Hbonds_z_theta)\n",
    "\t#save hbonds data if you want to graph it somewhere else\n",
    "\tHbonds_z_theta.to_csv('Ankyrin_hb_1.csv', index=False)\n",
    "\thb = ax.scatter(Hbonds_z_theta['theta'], Hbonds_z_theta['z'], c= Hbonds_z_theta['Hbonds (all)'].astype(int) , s= Hbonds_z_theta['Hbonds (all)'].astype(int), cmap=\"jet\")\n",
    "\t#create a loop\n",
    "\t# for i in range(len(Hbonds_z_theta['theta'])):\n",
    "\t# \t#create a txt\n",
    "\t# \ttxt = str(round(Hbonds_z_theta['z'][i], 1)) + \"\\n\" + str(round(Hbonds_z_theta['theta'][i], 1))\n",
    "\t# \t#annotate with the text\n",
    "\t# \tax.annotate(txt, (Hbonds_z_theta['theta'][i], Hbonds_z_theta['z'][i]), fontsize=8)\n",
    "\n",
    "\t# ax.invert_yaxis()\n",
    "\t# cb = Hbonds_heatmap.colorbar(hb, ax=ax)\n",
    "\t# cb.set_label('H-bonds (time-accumulated count)')\n",
    "\t# # pdf.savefig()\n",
    "\t# plt.close()"
   ]
  },
  {
   "cell_type": "code",
   "execution_count": 30,
   "metadata": {},
   "outputs": [],
   "source": [
    "# print(frame)"
   ]
  }
 ],
 "metadata": {
  "interpreter": {
   "hash": "e7370f93d1d0cde622a1f8e1c04877d8463912d04d973331ad4851f04de6915a"
  },
  "kernelspec": {
   "display_name": "Python 3.8.10 64-bit",
   "language": "python",
   "name": "python3"
  },
  "language_info": {
   "codemirror_mode": {
    "name": "ipython",
    "version": 3
   },
   "file_extension": ".py",
   "mimetype": "text/x-python",
   "name": "python",
   "nbconvert_exporter": "python",
   "pygments_lexer": "ipython3",
   "version": "3.8.10"
  },
  "orig_nbformat": 4
 },
 "nbformat": 4,
 "nbformat_minor": 2
}
