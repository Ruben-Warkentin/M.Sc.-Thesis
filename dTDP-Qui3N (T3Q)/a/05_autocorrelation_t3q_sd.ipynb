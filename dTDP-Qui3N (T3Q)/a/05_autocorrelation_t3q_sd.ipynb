{
 "cells": [
  {
   "cell_type": "markdown",
   "metadata": {},
   "source": [
    "Importing Packages"
   ]
  },
  {
   "cell_type": "code",
   "execution_count": 1,
   "metadata": {},
   "outputs": [],
   "source": [
    "import numpy as np\n",
    "import csv\n",
    "import matplotlib.pyplot as plt\n",
    "import pandas as pd\n",
    "import scipy.stats as st"
   ]
  },
  {
   "cell_type": "markdown",
   "metadata": {},
   "source": [
    "Global Variables"
   ]
  },
  {
   "cell_type": "code",
   "execution_count": 2,
   "metadata": {},
   "outputs": [],
   "source": [
    "# the list of \"a\" contains the different vector list file names\n",
    "a = ['a0_a55'] #make a separate f(x) that reads the files\n",
    "file = []\n",
    "f = []\n",
    "frames = 10000\n",
    "max_tau = 500\n",
    "x_max = max_tau/100\n",
    "# the list of \"a\" contains the different vector list file names\n",
    "\n",
    "file = \"v_list_a0_55.txt\"\n",
    "#open the file\n",
    "#vector list\n",
    "sv = []\n",
    "#mean y value list \n",
    "y_mean = []\n",
    "y_sd = []\n",
    "y_C99 = []\n",
    "#execute the functions\n",
    "df_y = pd.DataFrame({})"
   ]
  },
  {
   "cell_type": "markdown",
   "metadata": {},
   "source": [
    "Functions"
   ]
  },
  {
   "cell_type": "code",
   "execution_count": 3,
   "metadata": {},
   "outputs": [],
   "source": [
    "def read_data(): #note that \"f\" is defined previously as \n",
    "\t#open the file\n",
    "\tf = open(file)\n",
    "\treader = csv.reader(f,delimiter=' ',quoting=csv.QUOTE_NONNUMERIC) # change contents to floats, floats needed to use dot product function later on. \n",
    "\tnext(reader) #skip headers\n",
    "\t\n",
    "\tfor row in reader: # each row is a list\n",
    "\t\tsv.append(row) #write each row to the sv array"
   ]
  },
  {
   "cell_type": "code",
   "execution_count": 4,
   "metadata": {},
   "outputs": [],
   "source": [
    "def autoc():#read the file, delimiter ' ' indicates spaces separate columns\n",
    "\n",
    "\t##rotational autocorrelation function is C(tau) = <u(t).u(t+tau)>\n",
    "\tfor tau in range (0, max_tau, 1):\n",
    "\t\ty = []\n",
    "\t\tfor t in range (0, frames-tau, 1):\n",
    "\t\t\tC = (np.dot(sv[t], sv[t+tau]))\n",
    "\t\t\ty.append(C)\n",
    "\t\ty_mean.append(np.mean(y)) #the y_mean is the y value used for graphing later on\n",
    "\t\ty_sd.append(np.std(y)/np.sqrt((frames-tau)/300))\n",
    "\t\t# y_C99.append(st.norm.interval(alpha=0.99, loc=np.mean(y), scale=st.sem(y)))\n",
    "\t\t### calculate error bar for y values\n",
    "\t\t### function parameters and function return values"
   ]
  },
  {
   "cell_type": "code",
   "execution_count": 13,
   "metadata": {},
   "outputs": [],
   "source": [
    "def autoc_graph():\n",
    "\t#x axis\n",
    "\t# x = list(range(0, max_tau))\n",
    "\tx = np.linspace(0,x_max,max_tau)\n",
    "\tyerr = y_sd\n",
    "\t# plotting the points\n",
    "\tplt.plot(x, y_mean)\n",
    "\tplt.errorbar(x, y_mean, yerr=yerr, color='steelblue')\n",
    "\n",
    "\t# # naming the x axis\n",
    "\t# plt.xlabel('tau')\n",
    "\tplt.xlabel('time (ns)')\n",
    "\n",
    "\t# # naming the y axis\n",
    "\tplt.ylabel('autocorrelation')\n",
    "\n",
    "\t# # giving a title to my graph\n",
    "\tplt.title('t3q Rotational Autocorrelation: a0_55')\n",
    "\n",
    "\t# # function to show the plot\n",
    "\t# plt.savefig('a0_55_C99.png', bbox_inches='tight')\n",
    "\t# plt.savefig('a0_55_C99.pdf', bbox_inches='tight')\n",
    "\tplt.show()"
   ]
  },
  {
   "cell_type": "markdown",
   "metadata": {},
   "source": [
    "Executing Functions"
   ]
  },
  {
   "cell_type": "code",
   "execution_count": 6,
   "metadata": {},
   "outputs": [],
   "source": [
    "read_data()\n",
    "autoc()\n",
    "# autoc_graph()"
   ]
  },
  {
   "cell_type": "code",
   "execution_count": 14,
   "metadata": {},
   "outputs": [
    {
     "data": {
      "image/png": "[encoded data removed]",
      "text/plain": [
       "<Figure size 432x288 with 1 Axes>"
      ]
     },
     "metadata": {
      "needs_background": "light"
     },
     "output_type": "display_data"
    }
   ],
   "source": [
    "autoc_graph()"
   ]
  }
 ],
 "metadata": {
  "interpreter": {
   "hash": "e7370f93d1d0cde622a1f8e1c04877d8463912d04d973331ad4851f04de6915a"
  },
  "kernelspec": {
   "display_name": "Python 3.8.10 64-bit",
   "language": "python",
   "name": "python3"
  },
  "language_info": {
   "codemirror_mode": {
    "name": "ipython",
    "version": 3
   },
   "file_extension": ".py",
   "mimetype": "text/x-python",
   "name": "python",
   "nbconvert_exporter": "python",
   "pygments_lexer": "ipython3",
   "version": "3.8.10"
  },
  "orig_nbformat": 4
 },
 "nbformat": 4,
 "nbformat_minor": 2
}
